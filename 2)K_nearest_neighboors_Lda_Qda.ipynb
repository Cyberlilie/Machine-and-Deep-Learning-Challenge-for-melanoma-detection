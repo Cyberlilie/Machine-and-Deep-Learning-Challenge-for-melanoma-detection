{
 "cells": [
  {
   "cell_type": "markdown",
   "metadata": {},
   "source": [
    "# K-nearest neighboors and Linear Distcriminant Analysis. "
   ]
  },
  {
   "cell_type": "markdown",
   "metadata": {},
   "source": [
    "L'algorithme des K-plus proches voisins et de Linear Discriminant analysis sont des méthodes assez simple par rapport au SVM, je les aies testées avec et sans PCA pour bien mettre en valeur l'utilité de cette méthode, j'ai également mis en valeur l'importance de l'équilibrage du dataset, que j'utiliserai dans les étapes suivantes. "
   ]
  },
  {
   "cell_type": "code",
   "execution_count": 6,
   "metadata": {},
   "outputs": [],
   "source": [
    "import os\n",
    "import numpy as np\n",
    "import pandas as pd\n",
    "from skimage.io import imread\n",
    "from time import time\n",
    "import matplotlib.pyplot as plt\n",
    "from mpl_toolkits.axes_grid1 import AxesGrid\n",
    "from sklearn.preprocessing import StandardScaler\n",
    "from sklearn.metrics import classification_report\n",
    "from sklearn.metrics import confusion_matrix\n",
    "from sklearn.discriminant_analysis import LinearDiscriminantAnalysis\n",
    "from sklearn.model_selection import train_test_split\n",
    "from sklearn.model_selection import  cross_val_score\n",
    "from sklearn.discriminant_analysis import QuadraticDiscriminantAnalysis\n",
    "from sklearn.linear_model import LogisticRegression\n",
    "from sklearn.neighbors import KNeighborsClassifier\n",
    "from sklearn.svm import SVC, LinearSVC\n",
    "from sklearn.model_selection import GridSearchCV, KFold\n",
    "from sklearn.feature_selection import RFE\n",
    "from sklearn.linear_model import Perceptron\n",
    "from sklearn.tree import DecisionTreeClassifier\n",
    "from sklearn.ensemble import BaggingClassifier\n",
    "from sklearn import decomposition\n",
    "from sklearn.metrics import matthews_corrcoef\n",
    "from sklearn.metrics import make_scorer\n",
    "from sklearn.ensemble import RandomForestClassifier\n",
    "from imblearn.over_sampling import RandomOverSampler\n",
    "\n",
    "from collections import Counter\n",
    "import imblearn\n",
    "%matplotlib inline\n",
    "\n",
    "import warnings\n",
    "warnings.filterwarnings(\"ignore\", category=DeprecationWarning)\n",
    "warnings.simplefilter(action='ignore', category=FutureWarning)\n",
    "\n",
    "from sklearn.exceptions import ConvergenceWarning\n",
    "warnings.filterwarnings(action='ignore', category=ConvergenceWarning)\n",
    "\n",
    "warnings.filterwarnings(\"ignore\")\n",
    "\n",
    "# Code from scikit-learn\n",
    "import itertools\n",
    "def plot_confusion_matrix(cm, classes,\n",
    "                          normalize=False,\n",
    "                          title='Confusion matrix',\n",
    "                          cmap=plt.cm.Blues):\n",
    "    \"\"\"\n",
    "    This function prints and plots the confusion matrix.\n",
    "    Normalization can be applied by setting `normalize=True`.\n",
    "    \"\"\"\n",
    "    if normalize:\n",
    "        cm = cm.astype('float') / cm.sum(axis=1)[:, np.newaxis]\n",
    "        print(\"Normalized confusion matrix\")\n",
    "    else:\n",
    "        print('Confusion matrix, without normalization')\n",
    "\n",
    "    print(cm)\n",
    "\n",
    "    plt.imshow(cm, interpolation='nearest', cmap=cmap)\n",
    "    plt.title(title)\n",
    "    plt.colorbar()\n",
    "    tick_marks = np.arange(len(classes))\n",
    "    plt.xticks(tick_marks, classes, rotation=45)\n",
    "    plt.yticks(tick_marks, classes)\n",
    "\n",
    "    fmt = '.2f' if normalize else 'd'\n",
    "    thresh = cm.max() / 2.\n",
    "    for i, j in itertools.product(range(cm.shape[0]), range(cm.shape[1])):\n",
    "        plt.text(j, i, format(cm[i, j], fmt),\n",
    "                 horizontalalignment=\"center\",\n",
    "                 color=\"white\" if cm[i, j] > thresh else \"black\")\n",
    "\n",
    "    plt.ylabel('True label')\n",
    "    plt.xlabel('Predicted label')\n",
    "    plt.tight_layout()\n"
   ]
  },
  {
   "cell_type": "markdown",
   "metadata": {},
   "source": [
    "### LOAD DATA"
   ]
  },
  {
   "cell_type": "code",
   "execution_count": 7,
   "metadata": {},
   "outputs": [
    {
     "name": "stdout",
     "output_type": "stream",
     "text": [
      "il y a 15 features\n"
     ]
    }
   ],
   "source": [
    "df = pd.read_csv('data/train.csv')\n",
    "X_df = df['ImageId']\n",
    "y_df = df['Malignant']\n",
    "names = X_df.values\n",
    "y = y_df.values\n",
    "\n",
    "df2 = pd.read_csv('data/features.csv')\n",
    "features_df = df2.loc[df2['ImageId'].isin(list(names))]\n",
    "features = np.array(features_df.values)\n",
    "X = features[:,3:18] # des features on été ajoutées depuis\n",
    "N,M=X.shape\n",
    "class_names = [\"healthy\",\"melanoma\"]\n",
    "print('il y a '+ str(M)+' features')"
   ]
  },
  {
   "cell_type": "code",
   "execution_count": 8,
   "metadata": {},
   "outputs": [],
   "source": [
    "# Shuffle data randomly\n",
    "indeces = np.arange(N)\n",
    "np.random.shuffle(indeces)\n",
    "X = X[indeces]\n",
    "y = y[indeces]\n",
    "\n",
    "# Splitting the dataset into the Training set and Test set\n",
    "from sklearn.model_selection import train_test_split\n",
    "\n",
    "X_train, X_test, y_train, y_test = train_test_split(X, y, test_size=0.2, random_state=0) \n",
    "\n",
    "from sklearn.preprocessing import StandardScaler\n",
    "\n",
    "sc = StandardScaler()  \n",
    "X_train = sc.fit_transform(X_train)  \n",
    "X_test = sc.transform(X_test)  "
   ]
  },
  {
   "cell_type": "markdown",
   "metadata": {},
   "source": [
    "# K plus proches voisins. "
   ]
  },
  {
   "cell_type": "markdown",
   "metadata": {},
   "source": [
    "## K_plus proches voisins sans équilibrer le dataset, sans PCA"
   ]
  },
  {
   "cell_type": "code",
   "execution_count": 9,
   "metadata": {},
   "outputs": [
    {
     "name": "stdout",
     "output_type": "stream",
     "text": [
      "Best training Score: 0.5589285714285714\n",
      "Normalized confusion matrix\n",
      "[[0.90123457 0.09876543]\n",
      " [0.89830508 0.10169492]]\n"
     ]
    },
    {
     "data": {
      "image/png": "[encoded data removed]",
      "text/plain": [
       "<Figure size 432x288 with 2 Axes>"
      ]
     },
     "metadata": {
      "needs_background": "light"
     },
     "output_type": "display_data"
    }
   ],
   "source": [
    "KNN = KNeighborsClassifier()\n",
    "#cross validation\n",
    "p_grid_KNN = {'n_neighbors': [1,2,3,4,5,6,7,8,9,10]}\n",
    "grid_KNN = GridSearchCV(estimator=KNN, param_grid=p_grid_KNN, scoring=\"accuracy\", cv=10)\n",
    "grid_KNN.fit(X_train, y_train)\n",
    "print(\"Best training Score: {}\".format(grid_KNN.best_score_))\n",
    "\n",
    "y_pred = grid_KNN.predict(X_test)\n",
    "\n",
    "# Compute confusion matrix\n",
    "cnf_matrix = confusion_matrix(y_test, y_pred)\n",
    "\n",
    "# Plot normalized confusion matrix\n",
    "plt.figure()\n",
    "plot_confusion_matrix(cnf_matrix, classes=class_names, normalize=True,\n",
    "                      title='Normalized confusion matrix')\n",
    "plt.show()"
   ]
  },
  {
   "cell_type": "markdown",
   "metadata": {},
   "source": [
    "Le score est plutot bon, mais l'on remarque bien avec la matrice de confusion qu'équilibrer le dataset est nécessaire. Peut-être même que cela diminuera l'accuracy. Effectivement, le score après soumission au challenge Kaggle n'est pas bon du tout : -0.04178 je pense que cela est l'un des pires score obtenus. Nous allons voir si cela s'améliore en équilibrant le dataset. "
   ]
  },
  {
   "cell_type": "markdown",
   "metadata": {},
   "source": [
    "## K_plus proches voisins en équilibrant le dataset, sans PCA"
   ]
  },
  {
   "cell_type": "code",
   "execution_count": 10,
   "metadata": {},
   "outputs": [],
   "source": [
    "#Equilibrer le dataset\n",
    "\n",
    "from imblearn.over_sampling import SMOTE, ADASYN\n",
    "X_train, y_train = ADASYN().fit_resample(X_train, y_train)"
   ]
  },
  {
   "cell_type": "code",
   "execution_count": 11,
   "metadata": {},
   "outputs": [
    {
     "name": "stdout",
     "output_type": "stream",
     "text": [
      "Best training Score: 0.6436251920122887\n",
      "Best training params: {'n_neighbors': 1}\n",
      "Normalized confusion matrix\n",
      "[[0.51851852 0.48148148]\n",
      " [0.40677966 0.59322034]]\n"
     ]
    },
    {
     "data": {
      "image/png": "[encoded data removed]",
      "text/plain": [
       "<Figure size 432x288 with 2 Axes>"
      ]
     },
     "metadata": {
      "needs_background": "light"
     },
     "output_type": "display_data"
    }
   ],
   "source": [
    "KNN = KNeighborsClassifier()\n",
    "p_grid_KNN = {'n_neighbors': [1,2,3,4,5,6,7,8,9,10]}\n",
    "grid_KNN = GridSearchCV(estimator=KNN, param_grid=p_grid_KNN, scoring=\"accuracy\", cv=10)\n",
    "grid_KNN.fit(X_train, y_train)\n",
    "print(\"Best training Score: {}\".format(grid_KNN.best_score_))\n",
    "print(\"Best training params: {}\".format(grid_KNN.best_params_))\n",
    "y_pred = grid_KNN.predict(X_test)\n",
    "\n",
    "# Compute confusion matrix\n",
    "cnf_matrix = confusion_matrix(y_test, y_pred)\n",
    "\n",
    "# Plot normalized confusion matrix\n",
    "plt.figure()\n",
    "plot_confusion_matrix(cnf_matrix, classes=class_names, normalize=True,\n",
    "                      title='Normalized confusion matrix')\n",
    "plt.show()"
   ]
  },
  {
   "cell_type": "markdown",
   "metadata": {},
   "source": [
    "Le score d'accuracy a augmenté, la matrice de confusion est un peu meilleure. J'ai tout de même essayé de soumettre le résultat sur Kaggle. Le score est toujours assez mauvais. Je pense que c'est lié au paramètre choisi par cross validation : 1 voisin cela a de fortes chances de donner de l'overfitting. Effectivement, en imposant une augmentation du nombre de voisins, l'accuracy diminue : ci dessous j'impose 5 voisins au minimum, mais la détection est vraiment mauvaise, il y a plus de faux positifs que de vrai positifs.\n",
    "Peut-être qu'un PCA permettrait d'améliorer les choses. "
   ]
  },
  {
   "cell_type": "code",
   "execution_count": 12,
   "metadata": {},
   "outputs": [
    {
     "name": "stdout",
     "output_type": "stream",
     "text": [
      "Best training Score: 0.4869431643625192\n",
      "Best training params: {'n_neighbors': 7}\n",
      "Normalized confusion matrix\n",
      "[[0.4691358  0.5308642 ]\n",
      " [0.55932203 0.44067797]]\n"
     ]
    },
    {
     "data": {
      "image/png": "[encoded data removed]",
      "text/plain": [
       "<Figure size 432x288 with 2 Axes>"
      ]
     },
     "metadata": {
      "needs_background": "light"
     },
     "output_type": "display_data"
    }
   ],
   "source": [
    "KNN = KNeighborsClassifier()\n",
    "p_grid_KNN = {'n_neighbors': [5,6,7,8,9,10]}\n",
    "grid_KNN = GridSearchCV(estimator=KNN, param_grid=p_grid_KNN, scoring=\"accuracy\", cv=10)\n",
    "grid_KNN.fit(X_train, y_train)\n",
    "print(\"Best training Score: {}\".format(grid_KNN.best_score_))\n",
    "print(\"Best training params: {}\".format(grid_KNN.best_params_))\n",
    "y_pred = grid_KNN.predict(X_test)\n",
    "\n",
    "# Compute confusion matrix\n",
    "cnf_matrix = confusion_matrix(y_test, y_pred)\n",
    "\n",
    "# Plot normalized confusion matrix\n",
    "plt.figure()\n",
    "plot_confusion_matrix(cnf_matrix, classes=class_names, normalize=True,\n",
    "                      title='Normalized confusion matrix')\n",
    "plt.show()"
   ]
  },
  {
   "cell_type": "markdown",
   "metadata": {},
   "source": [
    "## K_plus proches voisins en équilibrant le dataset, avec PCA"
   ]
  },
  {
   "cell_type": "markdown",
   "metadata": {},
   "source": [
    "Afin de trouver le meilleur nombre de composants pour la PCA, je choisis le nombre de voisins qui maximise le score : "
   ]
  },
  {
   "cell_type": "code",
   "execution_count": 13,
   "metadata": {},
   "outputs": [
    {
     "data": {
      "image/png": "[encoded data removed]",
      "text/plain": [
       "<Figure size 432x288 with 1 Axes>"
      ]
     },
     "metadata": {
      "needs_background": "light"
     },
     "output_type": "display_data"
    },
    {
     "name": "stdout",
     "output_type": "stream",
     "text": [
      "meilleur score pour 13 composantes\n",
      "meilleur score : 0.6436251920122887\n"
     ]
    }
   ],
   "source": [
    "scores = []\n",
    "\n",
    "for i in range(2,15) : \n",
    "    #Principal Component analysis\n",
    "    pca = decomposition.PCA(n_components=i) \n",
    "    pca.fit(X_train)\n",
    "    X_pca = pca.transform(X_train)\n",
    "    \n",
    "    KNN = KNeighborsClassifier()\n",
    "    p_grid_KNN = {'n_neighbors': [1,2,3,4,5,6,7,8,9,10]}\n",
    "    grid_KNN = GridSearchCV(estimator=KNN, param_grid=p_grid_KNN, scoring=\"accuracy\", cv=10)\n",
    "    grid_KNN.fit(X_pca, y_train)\n",
    "    \n",
    "    scores.append(grid_KNN.best_score_)\n",
    "\n",
    "plt.plot(range(2,15),scores)\n",
    "plt.title('score en fonction du nombre de composantes')\n",
    "plt.show()\n",
    "print('meilleur score pour '+str(np.argmax(scores)+2)+ ' composantes')\n",
    "print('meilleur score : ' + str(max(scores)))"
   ]
  },
  {
   "cell_type": "code",
   "execution_count": 14,
   "metadata": {},
   "outputs": [
    {
     "name": "stdout",
     "output_type": "stream",
     "text": [
      "Best training Score: 0.6436251920122887\n",
      "Best training params: {'n_neighbors': 1}\n",
      "Normalized confusion matrix\n",
      "[[0.51851852 0.48148148]\n",
      " [0.40677966 0.59322034]]\n"
     ]
    },
    {
     "data": {
      "image/png": "[encoded data removed]",
      "text/plain": [
       "<Figure size 432x288 with 2 Axes>"
      ]
     },
     "metadata": {
      "needs_background": "light"
     },
     "output_type": "display_data"
    }
   ],
   "source": [
    "pca = decomposition.PCA(n_components=i) \n",
    "pca.fit(X_train)\n",
    "X_pca = pca.transform(X_train)\n",
    "Xtest_pca = pca.transform(X_test)\n",
    "\n",
    "KNN = KNeighborsClassifier()\n",
    "p_grid_KNN = {'n_neighbors': [1,2,3,4,5,6,7,8,9,10]}\n",
    "grid_KNN = GridSearchCV(estimator=KNN, param_grid=p_grid_KNN, scoring=\"accuracy\", cv=10)\n",
    "grid_KNN.fit(X_pca, y_train)\n",
    "print(\"Best training Score: {}\".format(grid_KNN.best_score_))\n",
    "print(\"Best training params: {}\".format(grid_KNN.best_params_))\n",
    "y_pred = grid_KNN.predict(Xtest_pca)\n",
    "\n",
    "# Compute confusion matrix\n",
    "cnf_matrix = confusion_matrix(y_test, y_pred)\n",
    "\n",
    "# Plot normalized confusion matrix\n",
    "plt.figure()\n",
    "plot_confusion_matrix(cnf_matrix, classes=class_names, normalize=True,\n",
    "                      title='Normalized confusion matrix')\n",
    "plt.show()"
   ]
  },
  {
   "cell_type": "markdown",
   "metadata": {},
   "source": [
    "La matrice de confusion est meilleure, et le score est plutôt bon. Je souhaite tester KNN ou LDA avec leur meilleur score de PCA, cross validation, data set équilibré et les dernières features afin de comparer les deux méthodes. Je vais également implémenter le score de Matthews cette-fois ci. "
   ]
  },
  {
   "cell_type": "markdown",
   "metadata": {},
   "source": [
    "## Test avec plus de features : comparer LDA,QDA et KNN"
   ]
  },
  {
   "cell_type": "code",
   "execution_count": 15,
   "metadata": {},
   "outputs": [
    {
     "name": "stdout",
     "output_type": "stream",
     "text": [
      "il y a 29 features\n"
     ]
    }
   ],
   "source": [
    "df = pd.read_csv('data/train.csv')\n",
    "X_df = df['ImageId']\n",
    "y_df = df['Malignant']\n",
    "names = X_df.values\n",
    "y = y_df.values\n",
    "\n",
    "df2 = pd.read_csv('data/features.csv')\n",
    "features_df = df2.loc[df2['ImageId'].isin(list(names))]\n",
    "features = np.array(features_df.values)\n",
    "X = features[:,1:]\n",
    "N,M=X.shape\n",
    "class_names = [\"healthy\",\"melanoma\"]\n",
    "print('il y a '+ str(M)+' features')"
   ]
  },
  {
   "cell_type": "code",
   "execution_count": 16,
   "metadata": {},
   "outputs": [],
   "source": [
    "# Shuffle data randomly\n",
    "indeces = np.arange(N)\n",
    "np.random.shuffle(indeces)\n",
    "X = X[indeces]\n",
    "y = y[indeces]\n",
    "\n",
    "# Splitting the dataset into the Training set and Test set\n",
    "from sklearn.model_selection import train_test_split\n",
    "\n",
    "X_train, X_test, y_train, y_test = train_test_split(X, y, test_size=0.2, random_state=0) \n",
    "\n",
    "from sklearn.preprocessing import StandardScaler\n",
    "\n",
    "sc = StandardScaler()  \n",
    "X_train = sc.fit_transform(X_train)  \n",
    "X_test = sc.transform(X_test)  \n",
    "\n",
    "\n",
    "#Equilibrer le dataset\n",
    "\n",
    "from imblearn.over_sampling import SMOTE, ADASYN\n",
    "X_train, y_train = ADASYN().fit_resample(X_train, y_train)\n",
    "\n",
    "\n",
    "#score de Matthews\n",
    "scorer = make_scorer(matthews_corrcoef)"
   ]
  },
  {
   "cell_type": "markdown",
   "metadata": {},
   "source": [
    "### KNN"
   ]
  },
  {
   "cell_type": "code",
   "execution_count": 17,
   "metadata": {},
   "outputs": [
    {
     "data": {
      "image/png": "[encoded data removed]",
      "text/plain": [
       "<Figure size 432x288 with 1 Axes>"
      ]
     },
     "metadata": {
      "needs_background": "light"
     },
     "output_type": "display_data"
    },
    {
     "name": "stdout",
     "output_type": "stream",
     "text": [
      "meilleur score pour 10 composantes\n",
      "meilleur score : 0.6891117478510028\n"
     ]
    }
   ],
   "source": [
    "# Déterminer le meilleur paramètre pour le nombre de composantes : \n",
    "\n",
    "scores = []\n",
    "for i in range(2,29) : \n",
    "    #Principal Component analysis\n",
    "    pca = decomposition.PCA(n_components=i) \n",
    "    pca.fit(X_train)\n",
    "    X_pca = pca.transform(X_train)\n",
    "\n",
    "    KNN = KNeighborsClassifier()\n",
    "    p_grid_KNN = {'n_neighbors': [1,2,3,4,5,6,7,8,9,10]}\n",
    "    grid_KNN = GridSearchCV(estimator=KNN, param_grid=p_grid_KNN, scoring=\"accuracy\", cv=10)\n",
    "    grid_KNN.fit(X_pca, y_train)\n",
    "    \n",
    "    scores.append(grid_KNN.best_score_)\n",
    "\n",
    "plt.plot(range(2,29),scores)\n",
    "plt.title('score en fonction du nombre de composantes')\n",
    "plt.show()\n",
    "print('meilleur score pour '+str(np.argmax(scores)+2)+ ' composantes')\n",
    "print('meilleur score : ' + str(max(scores)))"
   ]
  },
  {
   "cell_type": "code",
   "execution_count": 18,
   "metadata": {},
   "outputs": [
    {
     "name": "stdout",
     "output_type": "stream",
     "text": [
      "Best training Score: 0.6489971346704871\n",
      "Best training params: {'n_neighbors': 1}\n",
      "Normalized confusion matrix\n",
      "[[0.46835443 0.53164557]\n",
      " [0.59016393 0.40983607]]\n"
     ]
    },
    {
     "data": {
      "image/png": "[encoded data removed]",
      "text/plain": [
       "<Figure size 432x288 with 2 Axes>"
      ]
     },
     "metadata": {
      "needs_background": "light"
     },
     "output_type": "display_data"
    },
    {
     "name": "stdout",
     "output_type": "stream",
     "text": [
      "explained variance ratio for PCA : [0.46584287 0.14627685 0.1270165  0.05339723 0.04227366]\n"
     ]
    }
   ],
   "source": [
    "pca = decomposition.PCA(n_components=5) \n",
    "pca.fit(X_train)\n",
    "X_pca = pca.transform(X_train)\n",
    "Xtest_pca = pca.transform(X_test)\n",
    "\n",
    "KNN = KNeighborsClassifier()\n",
    "p_grid_KNN = {'n_neighbors': [1,2,3,4,5,6,7,8,9,10]}\n",
    "grid_KNN = GridSearchCV(estimator=KNN, param_grid=p_grid_KNN, scoring=\"accuracy\", cv=10)\n",
    "grid_KNN.fit(X_pca, y_train)\n",
    "print(\"Best training Score: {}\".format(grid_KNN.best_score_))\n",
    "print(\"Best training params: {}\".format(grid_KNN.best_params_))\n",
    "y_pred = grid_KNN.predict(Xtest_pca)\n",
    "\n",
    "# Compute confusion matrix\n",
    "cnf_matrix = confusion_matrix(y_test, y_pred)\n",
    "\n",
    "# Plot normalized confusion matrix\n",
    "plt.figure()\n",
    "plot_confusion_matrix(cnf_matrix, classes=class_names, normalize=True,\n",
    "                      title='Normalized confusion matrix')\n",
    "plt.show()\n",
    "print('explained variance ratio for PCA : ' + str((pca.explained_variance_ratio_)))"
   ]
  },
  {
   "cell_type": "markdown",
   "metadata": {},
   "source": [
    "### LDA"
   ]
  },
  {
   "cell_type": "code",
   "execution_count": 20,
   "metadata": {},
   "outputs": [
    {
     "data": {
      "image/png": "[encoded data removed]",
      "text/plain": [
       "<Figure size 432x288 with 1 Axes>"
      ]
     },
     "metadata": {
      "needs_background": "light"
     },
     "output_type": "display_data"
    },
    {
     "name": "stdout",
     "output_type": "stream",
     "text": [
      "meilleur score pour 8 composantes\n",
      "meilleur score : 0.5939542483660131\n"
     ]
    }
   ],
   "source": [
    "# Déterminer le meilleur paramètre pour le nombre de composantes : \n",
    "\n",
    "scores = []\n",
    "for i in range(2,29) : \n",
    "    #Principal Component analysis\n",
    "    pca = decomposition.PCA(n_components=i) \n",
    "    pca.fit(X_train)\n",
    "    X_pca = pca.transform(X_train)\n",
    "\n",
    "    lda = LinearDiscriminantAnalysis()\n",
    "    lda_score = cross_val_score(lda,X=X_pca, y = y_train,cv=5,scoring = \"balanced_accuracy\")\n",
    "    \n",
    "    scores.append(max(lda_score))\n",
    "\n",
    "plt.plot(range(2,29),scores)\n",
    "plt.title('score en fonction du nombre de composantes')\n",
    "plt.show()\n",
    "print('meilleur score pour '+str(np.argmax(scores)+2)+ ' composantes')\n",
    "print('meilleur score : ' + str(max(scores)))"
   ]
  },
  {
   "cell_type": "code",
   "execution_count": 21,
   "metadata": {},
   "outputs": [
    {
     "name": "stdout",
     "output_type": "stream",
     "text": [
      "Normalized confusion matrix\n",
      "[[0.39240506 0.60759494]\n",
      " [0.37704918 0.62295082]]\n"
     ]
    },
    {
     "data": {
      "image/png": "[encoded data removed]",
      "text/plain": [
       "<Figure size 432x288 with 2 Axes>"
      ]
     },
     "metadata": {
      "needs_background": "light"
     },
     "output_type": "display_data"
    },
    {
     "name": "stdout",
     "output_type": "stream",
     "text": [
      "score0.553921568627451\n",
      "explained variance ratio for PCA : [0.46584287 0.14627685 0.1270165  0.05339723 0.04227366 0.03290248]\n"
     ]
    }
   ],
   "source": [
    "pca = decomposition.PCA(n_components=6) \n",
    "pca.fit(X_train)\n",
    "X_pca = pca.transform(X_train)\n",
    "Xtest_pca = pca.transform(X_test)\n",
    "\n",
    "lda = LinearDiscriminantAnalysis()\n",
    "lda_score = cross_val_score(lda,X=X_pca, y = y_train,cv=5,scoring = \"balanced_accuracy\")\n",
    "lda.fit(X_pca,y_train)\n",
    "\n",
    "y_pred = lda.predict(Xtest_pca)\n",
    "\n",
    "# Compute confusion matrix\n",
    "cnf_matrix = confusion_matrix(y_test, y_pred)\n",
    "\n",
    "# Plot normalized confusion matrix\n",
    "plt.figure()\n",
    "plot_confusion_matrix(cnf_matrix, classes=class_names, normalize=True,\n",
    "                      title='Normalized confusion matrix')\n",
    "plt.show()\n",
    "print('score' + str(max(lda_score)))\n",
    "\n",
    "\n",
    "print('explained variance ratio for PCA : ' + str((pca.explained_variance_ratio_)))"
   ]
  },
  {
   "cell_type": "markdown",
   "metadata": {},
   "source": [
    "### QDA"
   ]
  },
  {
   "cell_type": "code",
   "execution_count": 22,
   "metadata": {},
   "outputs": [
    {
     "data": {
      "image/png": "[encoded data removed]",
      "text/plain": [
       "<Figure size 432x288 with 1 Axes>"
      ]
     },
     "metadata": {
      "needs_background": "light"
     },
     "output_type": "display_data"
    },
    {
     "name": "stdout",
     "output_type": "stream",
     "text": [
      "meilleur score pour 7 composantes\n",
      "meilleur score : 0.5616830065359477\n"
     ]
    }
   ],
   "source": [
    "# Déterminer le meilleur paramètre pour le nombre de composantes : \n",
    "\n",
    "scores = []\n",
    "for i in range(2,29) : \n",
    "    #Principal Component analysis\n",
    "    pca = decomposition.PCA(n_components=i) \n",
    "    pca.fit(X_train)\n",
    "    X_pca = pca.transform(X_train)\n",
    "\n",
    "    lda = QuadraticDiscriminantAnalysis()\n",
    "    lda_score = cross_val_score(lda,X=X_pca, y = y_train,cv=5,scoring = \"balanced_accuracy\")\n",
    "    \n",
    "    scores.append(max(lda_score))\n",
    "\n",
    "plt.plot(range(2,29),scores)\n",
    "plt.title('score en fonction du nombre de composantes')\n",
    "plt.show()\n",
    "print('meilleur score pour '+str(np.argmax(scores)+2)+ ' composantes')\n",
    "print('meilleur score : ' + str(max(scores)))"
   ]
  },
  {
   "cell_type": "code",
   "execution_count": 23,
   "metadata": {},
   "outputs": [
    {
     "name": "stdout",
     "output_type": "stream",
     "text": [
      "Normalized confusion matrix\n",
      "[[0.2278481  0.7721519 ]\n",
      " [0.18032787 0.81967213]]\n"
     ]
    },
    {
     "data": {
      "image/png": "[encoded data removed]",
      "text/plain": [
       "<Figure size 432x288 with 2 Axes>"
      ]
     },
     "metadata": {
      "needs_background": "light"
     },
     "output_type": "display_data"
    },
    {
     "name": "stdout",
     "output_type": "stream",
     "text": [
      "score : 0.5404411764705882\n",
      "explained variance ratio for PCA : [0.46584287 0.14627685 0.1270165  0.05339723 0.04227366 0.03290248]\n"
     ]
    }
   ],
   "source": [
    "pca = decomposition.PCA(n_components=6) \n",
    "pca.fit(X_train)\n",
    "X_pca = pca.transform(X_train)\n",
    "Xtest_pca = pca.transform(X_test)\n",
    "\n",
    "lda = QuadraticDiscriminantAnalysis()\n",
    "lda_score = cross_val_score(lda,X=X_pca, y = y_train,cv=5,scoring = \"balanced_accuracy\")\n",
    "lda.fit(X_pca,y_train)\n",
    "\n",
    "y_pred = lda.predict(Xtest_pca)\n",
    "\n",
    "# Compute confusion matrix\n",
    "cnf_matrix = confusion_matrix(y_test, y_pred)\n",
    "\n",
    "# Plot normalized confusion matrix\n",
    "plt.figure()\n",
    "plot_confusion_matrix(cnf_matrix, classes=class_names, normalize=True,\n",
    "                      title='Normalized confusion matrix')\n",
    "plt.show()\n",
    "print('score : ' + str(max(lda_score)))\n",
    "print('explained variance ratio for PCA : ' + str((pca.explained_variance_ratio_)))"
   ]
  },
  {
   "cell_type": "markdown",
   "metadata": {},
   "source": [
    "# Conclusion : \n",
    "Avec le score de Matthews, et l'utilisation de toutes les features, cela semble être KNN qui est la meilleure méthode, avec un score presque 2 fois supérieur à celui obtenu par les autres méthodes. Cependant, lorsque j'ai soumis les prédiction à Kaggle, le score était toujours aussi mauvais. Je pense que c'est le problème d'overfitting qui persiste. J'ai changé pour la balanced_accuracy (meilleure pour les classifications binaires d'après la documentation de sci-kit learn) dans l'exemple ci-dessous, les méthodes semblent avoir de bon résultats et c'est encore les K nearest Neighboors qui montrent les meilleurs résultats, mais toujours avec un seul voisin sélectionné, cela ne me semble pas fiable. \n",
    "\n",
    "Pour moi, avec la balanced Accuracy c'est la linear analysis qui semble la meilleure car on dirait que la Quadratic Analysis détecte beaucoup trop de mélanomes. Comme la linear Discriminant Analysis me semblait meilleure, je l'ai soumis et le score était assez mauvais.\n",
    "Quand à la Quadratic Discriminant analysis, elle a montré plusieurs fois des matrices de confusion avec une mauvaise prédiction mais un bon score de pertinence. \n",
    "\n",
    "D'après les scores de PCA, ce sont les trois premières variables qui sont les plus utiles à la classification, cependant, si je garde seulement les trois premières composantes du PCA, la classification est mauvaise et donne beaucoup de mélanomes. Les plus petites composantes sont donc assez utiles. \n",
    "\n",
    "Au vues de résultats, je vais essayer d'autres méthodes, comme SVM ou les méthodes d'ensemble pour obtenir une meilleure classification. "
   ]
  },
  {
   "cell_type": "markdown",
   "metadata": {},
   "source": [
    "# Appendice : code utilisé pour générer les CSV Kaggle"
   ]
  },
  {
   "cell_type": "markdown",
   "metadata": {},
   "source": [
    "## Essai 4  :"
   ]
  },
  {
   "cell_type": "code",
   "execution_count": 24,
   "metadata": {},
   "outputs": [],
   "source": [
    "#loading data\n",
    "#train set :\n",
    "df = pd.read_csv('data/train.csv')\n",
    "X_df = df['ImageId']\n",
    "y_df = df['Malignant']\n",
    "names = X_df.values\n",
    "y_train = y_df.values\n",
    "\n",
    "df2 = pd.read_csv('data/features.csv')\n",
    "features_df = df2.loc[df2['ImageId'].isin(list(names))]\n",
    "features = np.array(features_df.values)\n",
    "X_train = features[:,1:18] #Toutes les features n'étaient pas encore calculées\n",
    "\n",
    "#test set : \n",
    "df = pd.read_csv('data/test.csv')\n",
    "X_df = df['ImageId']\n",
    "y_df = df['Malignant']\n",
    "names = X_df.values\n",
    "y = y_df.values\n",
    "\n",
    "df2 = pd.read_csv('data/features.csv')\n",
    "features_df = df2.loc[df2['ImageId'].isin(list(names))]\n",
    "features = np.array(features_df.values)\n",
    "X_test = features[:,1:18]"
   ]
  },
  {
   "cell_type": "code",
   "execution_count": 25,
   "metadata": {},
   "outputs": [],
   "source": [
    "# Looking for the best hyperparameters\n",
    "KNN = KNeighborsClassifier()\n",
    "grid_KNN = GridSearchCV(estimator=KNN, param_grid=p_grid_KNN, scoring=\"accuracy\", cv=10)\n",
    "grid_KNN.fit(X_train, y_train)\n",
    "\n",
    "y = grid_KNN.predict(X_test)"
   ]
  },
  {
   "cell_type": "code",
   "execution_count": 26,
   "metadata": {},
   "outputs": [],
   "source": [
    "df_submission = pd.read_csv('data/test.csv')"
   ]
  },
  {
   "cell_type": "code",
   "execution_count": 27,
   "metadata": {},
   "outputs": [
    {
     "name": "stdout",
     "output_type": "stream",
     "text": [
      "     ImageId  Malignant\n",
      "0  IM_000788          0\n",
      "1  IM_000640          0\n",
      "2  IM_000889          1\n"
     ]
    }
   ],
   "source": [
    "i = 0\n",
    "for Id in df_submission['ImageId']:\n",
    "    if Id != names[i] : \n",
    "        print('mismatch')\n",
    "    value = y[i] # Draw a random number between 0 and 1 : binary classification : put here the result of\n",
    "    i = i+1                # your classifier\n",
    "    df_submission.loc[df_submission['ImageId'] == Id, 'Malignant'] = value\n",
    "df_submission['Malignant'] = df_submission['Malignant'].astype(int) # This line is mandatory to be sure to have integer\n",
    "print(df_submission.head(3))\n",
    "df_submission.to_csv('data/ESSAI4.csv', index=None, sep=',', mode='w') # Save the data in the exemple_test.csv file"
   ]
  },
  {
   "cell_type": "markdown",
   "metadata": {},
   "source": [
    "## ESSAI 5"
   ]
  },
  {
   "cell_type": "code",
   "execution_count": 28,
   "metadata": {},
   "outputs": [],
   "source": [
    "ros = RandomOverSampler(random_state=3)\n",
    "X_train, y_train = ros.fit_resample(X_train, y_train)\n",
    "\n",
    "# Looking for the best hyperparameters\n",
    "KNN = KNeighborsClassifier()\n",
    "grid_KNN = GridSearchCV(estimator=KNN, param_grid=p_grid_KNN, scoring=\"accuracy\", cv=10)\n",
    "grid_KNN.fit(X_train, y_train)\n",
    "\n",
    "y = grid_KNN.predict(X_test)"
   ]
  },
  {
   "cell_type": "code",
   "execution_count": 29,
   "metadata": {},
   "outputs": [
    {
     "name": "stdout",
     "output_type": "stream",
     "text": [
      "     ImageId  Malignant\n",
      "0  IM_000788          1\n",
      "1  IM_000640          1\n",
      "2  IM_000889          1\n"
     ]
    }
   ],
   "source": [
    "df_submission = pd.read_csv('data/test.csv')\n",
    "\n",
    "i = 0\n",
    "for Id in df_submission['ImageId']:\n",
    "    if Id != names[i] : \n",
    "        print('mismatch')\n",
    "    value = y[i] # Draw a random number between 0 and 1 : binary classification : put here the result of\n",
    "    i = i+1                # your classifier\n",
    "    df_submission.loc[df_submission['ImageId'] == Id, 'Malignant'] = value\n",
    "df_submission['Malignant'] = df_submission['Malignant'].astype(int) # This line is mandatory to be sure to have integer\n",
    "print(df_submission.head(3))\n",
    "df_submission.to_csv('data/ESSAI5.csv', index=None, sep=',', mode='w') # Save the data in the exemple_test.csv file"
   ]
  },
  {
   "cell_type": "markdown",
   "metadata": {},
   "source": [
    "# ESSAI 14"
   ]
  },
  {
   "cell_type": "code",
   "execution_count": 30,
   "metadata": {},
   "outputs": [],
   "source": [
    "#loading data\n",
    "#train set :\n",
    "df = pd.read_csv('data/train.csv')\n",
    "X_df = df['ImageId']\n",
    "y_df = df['Malignant']\n",
    "names = X_df.values\n",
    "y_train = y_df.values\n",
    "\n",
    "df2 = pd.read_csv('data/features.csv')\n",
    "features_df = df2.loc[df2['ImageId'].isin(list(names))]\n",
    "features = np.array(features_df.values)\n",
    "X_train = features[:,1:] #Toutes les features n'étaient pas encore calculées\n",
    "\n",
    "#test set : \n",
    "df = pd.read_csv('data/test.csv')\n",
    "X_df = df['ImageId']\n",
    "y_df = df['Malignant']\n",
    "names = X_df.values\n",
    "y = y_df.values\n",
    "\n",
    "df2 = pd.read_csv('data/features.csv')\n",
    "features_df = df2.loc[df2['ImageId'].isin(list(names))]\n",
    "features = np.array(features_df.values)\n",
    "X_test = features[:,1:]"
   ]
  },
  {
   "cell_type": "code",
   "execution_count": 31,
   "metadata": {},
   "outputs": [],
   "source": [
    "from sklearn.preprocessing import StandardScaler\n",
    "\n",
    "# Shuffle data randomly\n",
    "N,M=X_train.shape\n",
    "indeces = np.arange(N)\n",
    "np.random.shuffle(indeces)\n",
    "X_train = X_train[indeces]\n",
    "y_train = y_train[indeces]\n",
    "\n",
    "sc = StandardScaler()  \n",
    "X_train = sc.fit_transform(X_train)  \n",
    "X_test = sc.transform(X_test)  \n",
    "\n",
    "\n",
    "#Equilibrer le dataset\n",
    "\n",
    "from imblearn.over_sampling import SMOTE, ADASYN\n",
    "X_train, y_train = ADASYN().fit_resample(X_train, y_train)"
   ]
  },
  {
   "cell_type": "code",
   "execution_count": 32,
   "metadata": {},
   "outputs": [
    {
     "name": "stdout",
     "output_type": "stream",
     "text": [
      "Best training Score: 0.2720385874581243\n",
      "Best training params: {'n_neighbors': 1}\n"
     ]
    }
   ],
   "source": [
    "pca = decomposition.PCA(n_components=13) \n",
    "pca.fit(X_train)\n",
    "X_pca = pca.transform(X_train)\n",
    "Xtest_pca = pca.transform(X_test)\n",
    "\n",
    "p_grid_KNN = {'n_neighbors': [1,2,3,4,5,6,7,8,9,10]}\n",
    "grid_KNN = GridSearchCV(estimator=KNN, param_grid=p_grid_KNN, scoring=scorer, cv=10)\n",
    "grid_KNN.fit(X_pca, y_train)\n",
    "print(\"Best training Score: {}\".format(grid_KNN.best_score_))\n",
    "print(\"Best training params: {}\".format(grid_KNN.best_params_))\n",
    "y_pred = grid_KNN.predict(Xtest_pca)\n"
   ]
  },
  {
   "cell_type": "code",
   "execution_count": 33,
   "metadata": {},
   "outputs": [
    {
     "name": "stdout",
     "output_type": "stream",
     "text": [
      "     ImageId  Malignant\n",
      "0  IM_000788          1\n",
      "1  IM_000640          1\n",
      "2  IM_000889          0\n"
     ]
    }
   ],
   "source": [
    "df_submission = pd.read_csv('data/test.csv')\n",
    "\n",
    "i = 0\n",
    "for Id in df_submission['ImageId']:\n",
    "    if Id != names[i] : \n",
    "        print('mismatch')\n",
    "    value = y_pred[i] # Draw a random number between 0 and 1 : binary classification : put here the result of\n",
    "    i = i+1                # your classifier\n",
    "    df_submission.loc[df_submission['ImageId'] == Id, 'Malignant'] = value\n",
    "df_submission['Malignant'] = df_submission['Malignant'].astype(int) # This line is mandatory to be sure to have integer\n",
    "print(df_submission.head(3))\n",
    "df_submission.to_csv('data/ESSAI14.csv', index=None, sep=',', mode='w') # Save the data in the exemple_test.csv file"
   ]
  },
  {
   "cell_type": "markdown",
   "metadata": {},
   "source": [
    "# ESSAI 16 : LDA"
   ]
  },
  {
   "cell_type": "code",
   "execution_count": 34,
   "metadata": {},
   "outputs": [],
   "source": [
    "#loading data\n",
    "#train set :\n",
    "df = pd.read_csv('data/train.csv')\n",
    "X_df = df['ImageId']\n",
    "y_df = df['Malignant']\n",
    "names = X_df.values\n",
    "y_train = y_df.values\n",
    "\n",
    "df2 = pd.read_csv('data/features.csv')\n",
    "features_df = df2.loc[df2['ImageId'].isin(list(names))]\n",
    "features = np.array(features_df.values)\n",
    "X_train = features[:,1:] #Toutes les features n'étaient pas encore calculées\n",
    "\n",
    "#test set : \n",
    "df = pd.read_csv('data/test.csv')\n",
    "X_df = df['ImageId']\n",
    "y_df = df['Malignant']\n",
    "names = X_df.values\n",
    "y = y_df.values\n",
    "\n",
    "df2 = pd.read_csv('data/features.csv')\n",
    "features_df = df2.loc[df2['ImageId'].isin(list(names))]\n",
    "features = np.array(features_df.values)\n",
    "X_test = features[:,1:]"
   ]
  },
  {
   "cell_type": "code",
   "execution_count": 35,
   "metadata": {},
   "outputs": [],
   "source": [
    "from sklearn.preprocessing import StandardScaler\n",
    "\n",
    "# Shuffle data randomly\n",
    "N,M=X_train.shape\n",
    "indeces = np.arange(N)\n",
    "np.random.shuffle(indeces)\n",
    "X_train = X_train[indeces]\n",
    "y_train = y_train[indeces]\n",
    "\n",
    "sc = StandardScaler()  \n",
    "X_train = sc.fit_transform(X_train)  \n",
    "X_test = sc.transform(X_test)  \n",
    "\n",
    "\n",
    "#Equilibrer le dataset\n",
    "\n",
    "from imblearn.over_sampling import SMOTE, ADASYN\n",
    "X_train, y_train = ADASYN().fit_resample(X_train, y_train)"
   ]
  },
  {
   "cell_type": "code",
   "execution_count": 36,
   "metadata": {},
   "outputs": [
    {
     "name": "stdout",
     "output_type": "stream",
     "text": [
      "0.5144787644787645\n"
     ]
    }
   ],
   "source": [
    "pca = decomposition.PCA(n_components=18) \n",
    "pca.fit(X_train)\n",
    "X_pca = pca.transform(X_train)\n",
    "Xtest_pca = pca.transform(X_test)\n",
    "\n",
    "lda = LinearDiscriminantAnalysis()\n",
    "lda_score = cross_val_score(lda,X=X_pca, y = y_train,cv=5,scoring = \"balanced_accuracy\")\n",
    "lda.fit(X_pca,y_train)\n",
    "\n",
    "y_pred = lda.predict(Xtest_pca)\n",
    "\n",
    "print(max(lda_score))"
   ]
  },
  {
   "cell_type": "code",
   "execution_count": 37,
   "metadata": {},
   "outputs": [
    {
     "name": "stdout",
     "output_type": "stream",
     "text": [
      "     ImageId  Malignant\n",
      "0  IM_000788          0\n",
      "1  IM_000640          0\n",
      "2  IM_000889          1\n"
     ]
    }
   ],
   "source": [
    "df_submission = pd.read_csv('data/test.csv')\n",
    "\n",
    "i = 0\n",
    "for Id in df_submission['ImageId']:\n",
    "    if Id != names[i] : \n",
    "        print('mismatch')\n",
    "    value = y_pred[i] # Draw a random number between 0 and 1 : binary classification : put here the result of\n",
    "    i = i+1                # your classifier\n",
    "    df_submission.loc[df_submission['ImageId'] == Id, 'Malignant'] = value\n",
    "df_submission['Malignant'] = df_submission['Malignant'].astype(int) # This line is mandatory to be sure to have integer\n",
    "print(df_submission.head(3))\n",
    "df_submission.to_csv('data/ESSAI16.csv', index=None, sep=',', mode='w') # Save the data in the exemple_test.csv file"
   ]
  }
 ],
 "metadata": {
  "kernelspec": {
   "display_name": "Python 3",
   "language": "python",
   "name": "python3"
  },
  "language_info": {
   "codemirror_mode": {
    "name": "ipython",
    "version": 3
   },
   "file_extension": ".py",
   "mimetype": "text/x-python",
   "name": "python",
   "nbconvert_exporter": "python",
   "pygments_lexer": "ipython3",
   "version": "3.7.2"
  }
 },
 "nbformat": 4,
 "nbformat_minor": 2
}
