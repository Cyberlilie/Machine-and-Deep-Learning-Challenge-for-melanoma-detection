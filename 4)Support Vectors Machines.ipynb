{
 "cells": [
  {
   "cell_type": "markdown",
   "metadata": {},
   "source": [
    "# Support Vector Machines"
   ]
  },
  {
   "cell_type": "markdown",
   "metadata": {},
   "source": [
    "Les SVMs sont très utilisés pour les classifications binaires. Nous allons voir s'ils fonctionnent bien pour le cas présent.\n",
    "A chaque fois, j'équilibrerai le dataset (cela est important pour les SVM car la frontière peut facilement faire une séparation au milieu d'un ensemble si jamais les labels sont mal équilibrés) et je normaliserais les données (sinon ce n'est pas possible pour un SVM d'avoir de bons résultats avec des données trop éparses). \n",
    "\n",
    "Utiliser un PCA avant SVM peut changer complètement les résultats puisque cela change d'espace. Il n'est pas évident de dire que le PCA améliorera la prédiction cette fois-ci, je vais donc tester les deux méthodes, sur des noyaux linéaires et non linéaires. A chaque fois cependant j'utiliserai la cross validation pour avoir le meilleur paramètre de régularisation possible"
   ]
  },
  {
   "cell_type": "code",
   "execution_count": 1,
   "metadata": {},
   "outputs": [],
   "source": [
    "import os\n",
    "import numpy as np\n",
    "import pandas as pd\n",
    "from skimage.io import imread\n",
    "from time import time\n",
    "import matplotlib.pyplot as plt\n",
    "from mpl_toolkits.axes_grid1 import AxesGrid\n",
    "from sklearn.preprocessing import StandardScaler\n",
    "from sklearn.metrics import classification_report\n",
    "from sklearn.metrics import confusion_matrix\n",
    "from sklearn.discriminant_analysis import LinearDiscriminantAnalysis\n",
    "from sklearn.model_selection import train_test_split\n",
    "from sklearn.model_selection import  cross_val_score\n",
    "from sklearn.discriminant_analysis import QuadraticDiscriminantAnalysis\n",
    "from sklearn.linear_model import LogisticRegression\n",
    "from sklearn.neighbors import KNeighborsClassifier\n",
    "from sklearn.svm import SVC, LinearSVC\n",
    "from sklearn.model_selection import GridSearchCV, KFold\n",
    "from sklearn.feature_selection import RFE\n",
    "from sklearn.linear_model import Perceptron\n",
    "from sklearn.tree import DecisionTreeClassifier\n",
    "from sklearn.ensemble import BaggingClassifier\n",
    "from sklearn import decomposition\n",
    "from sklearn.ensemble import RandomForestClassifier\n",
    "from imblearn.over_sampling import RandomOverSampler\n",
    "from sklearn.metrics import matthews_corrcoef\n",
    "from sklearn.metrics import make_scorer\n",
    "from collections import Counter\n",
    "import imblearn\n",
    "%matplotlib inline\n",
    "\n",
    "import warnings\n",
    "#from warnings import DataConversionWarning\n",
    "warnings.filterwarnings(\"ignore\")\n",
    "warnings.filterwarnings(\"ignore\", category=DeprecationWarning)\n",
    "warnings.simplefilter(action='ignore', category=FutureWarning)\n",
    "\n",
    "from sklearn.exceptions import ConvergenceWarning\n",
    "warnings.filterwarnings(action='ignore', category=ConvergenceWarning)\n",
    "\n",
    "# Code from scikit-learn\n",
    "import itertools\n",
    "def plot_confusion_matrix(cm, classes,\n",
    "                          normalize=False,\n",
    "                          title='Confusion matrix',\n",
    "                          cmap=plt.cm.Blues):\n",
    "    \"\"\"\n",
    "    This function prints and plots the confusion matrix.\n",
    "    Normalization can be applied by setting `normalize=True`.\n",
    "    \"\"\"\n",
    "    if normalize:\n",
    "        cm = cm.astype('float') / cm.sum(axis=1)[:, np.newaxis]\n",
    "        print(\"Normalized confusion matrix\")\n",
    "    else:\n",
    "        print('Confusion matrix, without normalization')\n",
    "\n",
    "    print(cm)\n",
    "\n",
    "    plt.imshow(cm, interpolation='nearest', cmap=cmap)\n",
    "    plt.title(title)\n",
    "    plt.colorbar()\n",
    "    tick_marks = np.arange(len(classes))\n",
    "    plt.xticks(tick_marks, classes, rotation=45)\n",
    "    plt.yticks(tick_marks, classes)\n",
    "\n",
    "    fmt = '.2f' if normalize else 'd'\n",
    "    thresh = cm.max() / 2.\n",
    "    for i, j in itertools.product(range(cm.shape[0]), range(cm.shape[1])):\n",
    "        plt.text(j, i, format(cm[i, j], fmt),\n",
    "                 horizontalalignment=\"center\",\n",
    "                 color=\"white\" if cm[i, j] > thresh else \"black\")\n",
    "\n",
    "    plt.ylabel('True label')\n",
    "    plt.xlabel('Predicted label')\n",
    "    plt.tight_layout()\n"
   ]
  },
  {
   "cell_type": "code",
   "execution_count": 2,
   "metadata": {},
   "outputs": [],
   "source": [
    "df = pd.read_csv('data/train.csv')\n",
    "X_df = df['ImageId']\n",
    "y_df = df['Malignant']\n",
    "names = X_df.values\n",
    "y = y_df.values\n",
    "\n",
    "df2 = pd.read_csv('data/features.csv')\n",
    "features_df = df2.loc[df2['ImageId'].isin(names)]\n",
    "features = np.array(features_df.values)\n",
    "X = features[:,1:]\n",
    "N,M=X.shape\n",
    "class_names = [\"healthy\",\"melanoma\"]"
   ]
  },
  {
   "cell_type": "code",
   "execution_count": 3,
   "metadata": {},
   "outputs": [],
   "source": [
    "# Shuffle data randomly\n",
    "indeces = np.arange(N)\n",
    "np.random.shuffle(indeces)\n",
    "X = X[indeces]\n",
    "y = y[indeces]\n",
    "\n",
    "# Splitting the dataset into the Training set and Test set\n",
    "from sklearn.model_selection import train_test_split\n",
    "\n",
    "X_train, X_test, y_train, y_test = train_test_split(X, y, test_size=0.2, random_state=0) \n",
    "\n",
    "from sklearn.preprocessing import StandardScaler\n",
    "\n",
    "sc = StandardScaler()  \n",
    "X_train = sc.fit_transform(X_train)  \n",
    "X_test = sc.transform(X_test)  \n",
    "\n",
    "\n",
    "#Equilibrer le dataset\n",
    "\n",
    "from imblearn.over_sampling import SMOTE, ADASYN\n",
    "X_train, y_train = ADASYN().fit_resample(X_train, y_train)\n"
   ]
  },
  {
   "cell_type": "markdown",
   "metadata": {},
   "source": [
    "## Linear SVM"
   ]
  },
  {
   "cell_type": "markdown",
   "metadata": {},
   "source": [
    "### Without PCA"
   ]
  },
  {
   "cell_type": "code",
   "execution_count": 4,
   "metadata": {},
   "outputs": [
    {
     "name": "stdout",
     "output_type": "stream",
     "text": [
      "Best Score: 0.5153547289620621\n",
      "Best params: {'C': 0.01}\n",
      "Normalized confusion matrix\n",
      "[[0.46590909 0.53409091]\n",
      " [0.40384615 0.59615385]]\n"
     ]
    },
    {
     "data": {
      "image/png": "[encoded data removed]",
      "text/plain": [
       "<Figure size 432x288 with 2 Axes>"
      ]
     },
     "metadata": {
      "needs_background": "light"
     },
     "output_type": "display_data"
    }
   ],
   "source": [
    "#score de Matthews\n",
    "scorer = make_scorer(matthews_corrcoef)\n",
    "\n",
    "# Fitting Linear SVM on original data\n",
    "\n",
    "p_grid_lsvm = {'C': [1e-3,1e-2,1e-1,1,2,3,4,5,6,7,8,9,1e1]}\n",
    "Lsvm = LinearSVC(class_weight='balanced')\n",
    "inner_cv = KFold(n_splits=5, shuffle=True, random_state=42)\n",
    "outer_cv = KFold(n_splits=5, shuffle=True, random_state=42)\n",
    "# Nested CV with parameter optimization\n",
    "\n",
    "\n",
    "clf = GridSearchCV(estimator=Lsvm, param_grid=p_grid_lsvm, cv=inner_cv)\n",
    "nested_score = cross_val_score(clf, X_train, y_train, cv=outer_cv,scoring=scorer)\n",
    "\n",
    "# Looking for the best hyperparameters\n",
    "grid_lsvm = GridSearchCV(estimator=Lsvm, param_grid=p_grid_lsvm, scoring=\"balanced_accuracy\", cv=5)\n",
    "grid_lsvm.fit(X_train, y_train)\n",
    "print(\"Best Score: {}\".format(grid_lsvm.best_score_))\n",
    "print(\"Best params: {}\".format(grid_lsvm.best_params_))\n",
    "\n",
    "y_pred = grid_lsvm.predict(X_test)\n",
    "\n",
    "# Compute confusion matrix\n",
    "cnf_matrix = confusion_matrix(y_test, y_pred)\n",
    "\n",
    "# Plot normalized confusion matrix\n",
    "plt.figure()\n",
    "plot_confusion_matrix(cnf_matrix, classes=class_names, normalize=True,\n",
    "                      title='Normalized confusion matrix')\n",
    "plt.show()"
   ]
  },
  {
   "cell_type": "markdown",
   "metadata": {},
   "source": [
    "### Linear SVM with PCA"
   ]
  },
  {
   "cell_type": "code",
   "execution_count": 5,
   "metadata": {},
   "outputs": [
    {
     "data": {
      "image/png": "[encoded data removed]",
      "text/plain": [
       "<Figure size 432x288 with 1 Axes>"
      ]
     },
     "metadata": {
      "needs_background": "light"
     },
     "output_type": "display_data"
    },
    {
     "name": "stdout",
     "output_type": "stream",
     "text": [
      "best score for 5 components\n",
      "best score : 0.5308215839942582\n"
     ]
    }
   ],
   "source": [
    "l = []\n",
    "\n",
    "for i in range(2,29) : \n",
    "    # Test at least one reduction technique with a linear and non-linear SVM\n",
    "    pca = decomposition.PCA(n_components=i) # use number of components take explain 90% of variability\n",
    "    pca.fit(X_train)\n",
    "    X_pca = pca.transform(X_train)\n",
    "    Xtest_pca = pca.transform(X_test)\n",
    "    \n",
    "    # Fitting SVM\n",
    "    Lsvm = LinearSVC(class_weight='balanced')\n",
    "    inner_cv = KFold(n_splits=5, shuffle=True, random_state=42)\n",
    "    outer_cv = KFold(n_splits=5, shuffle=True, random_state=42)\n",
    "\n",
    "    # Nested CV with parameter optimization\n",
    "\n",
    "\n",
    "    clf = GridSearchCV(estimator=Lsvm, param_grid=p_grid_lsvm, cv=inner_cv)\n",
    "    nested_score = cross_val_score(clf, X_train, y_train, cv=outer_cv,scoring=\"balanced_accuracy\")\n",
    "    # Looking for the best hyperparameters\n",
    "    grid_lsvm = GridSearchCV(estimator=Lsvm, param_grid=p_grid_lsvm, scoring=\"balanced_accuracy\", cv=5)\n",
    "    grid_lsvm.fit(X_pca, y_train)\n",
    "\n",
    "    \n",
    "    l.append(grid_lsvm.best_score_)\n",
    "\n",
    "\n",
    "    y_pred = grid_lsvm.predict(Xtest_pca)\n",
    "    \n",
    "plt.plot(range(2,29),l,label='score')\n",
    "plt.title(\"Balanced accuracy in function of number of components in PCA\")\n",
    "plt.legend()\n",
    "plt.xlabel('number of components in PCA')\n",
    "plt.show()\n",
    "\n",
    "print('best score for '+ str(np.argmax(l)+2)+ ' components')\n",
    "print('best score : '+ str(max(l)))"
   ]
  },
  {
   "cell_type": "code",
   "execution_count": 6,
   "metadata": {},
   "outputs": [
    {
     "name": "stdout",
     "output_type": "stream",
     "text": [
      "Best Score: 0.5415438843103425\n",
      "Best params: {'C': 8}\n",
      "Normalized confusion matrix\n",
      "[[0.53409091 0.46590909]\n",
      " [0.46153846 0.53846154]]\n"
     ]
    },
    {
     "data": {
      "image/png": "[encoded data removed]",
      "text/plain": [
       "<Figure size 432x288 with 2 Axes>"
      ]
     },
     "metadata": {
      "needs_background": "light"
     },
     "output_type": "display_data"
    }
   ],
   "source": [
    "#PCA\n",
    "pca = decomposition.PCA(n_components=5) # use number of components that has the best result\n",
    "pca.fit(X_train)\n",
    "X_pca = pca.transform(X_train)\n",
    "Xtest_pca = pca.transform(X_test)\n",
    "\n",
    "\n",
    "\n",
    "# Fitting Linear SVM on original data\n",
    "\n",
    "p_grid_lsvm = {'C': [1e-3,1e-2,1e-1,1,2,3,4,5,6,7,8,9,1e1]}\n",
    "Lsvm = LinearSVC(class_weight='balanced')\n",
    "inner_cv = KFold(n_splits=5, shuffle=True, random_state=42)\n",
    "outer_cv = KFold(n_splits=5, shuffle=True, random_state=42)\n",
    "# Nested CV with parameter optimization\n",
    "\n",
    "\n",
    "clf = GridSearchCV(estimator=Lsvm, param_grid=p_grid_lsvm, cv=inner_cv)\n",
    "nested_score = cross_val_score(clf, X_pca, y_train, cv=outer_cv,scoring=scorer)\n",
    "\n",
    "# Looking for the best hyperparameters\n",
    "grid_lsvm = GridSearchCV(estimator=Lsvm, param_grid=p_grid_lsvm, scoring=\"balanced_accuracy\", cv=5)\n",
    "grid_lsvm.fit(X_pca, y_train)\n",
    "print(\"Best Score: {}\".format(grid_lsvm.best_score_))\n",
    "print(\"Best params: {}\".format(grid_lsvm.best_params_))\n",
    "\n",
    "y_pred = grid_lsvm.predict(Xtest_pca)\n",
    "\n",
    "# Compute confusion matrix\n",
    "cnf_matrix = confusion_matrix(y_test, y_pred)\n",
    "\n",
    "# Plot normalized confusion matrix\n",
    "plt.figure()\n",
    "plot_confusion_matrix(cnf_matrix, classes=class_names, normalize=True,\n",
    "                      title='Normalized confusion matrix')\n",
    "plt.show()"
   ]
  },
  {
   "cell_type": "markdown",
   "metadata": {},
   "source": [
    "L'utilisation de PCA améliore légèrement la prédiction pour le SVM à noyau linéaire mais cela est assez léger. Une autre méthode de sélection de features seraient peut -être judicieuse (comme par exemple la forward variable selection). \n",
    "\n",
    "Lors de la soumission des résultats cela a donné à chaque fois des scores négatifs même en ayant bien choisit le bon paramètre pour le PCA.\n",
    "Vu les résultats, la séparation des features est non linéaire. J'essaie donc une résolution avec un SVM non linéaire. Les deux meilleurs noyaux sont les noyaux sigmoid et Rbf avec mon ensemble. "
   ]
  },
  {
   "cell_type": "markdown",
   "metadata": {},
   "source": [
    "# Non linear SVM"
   ]
  },
  {
   "cell_type": "markdown",
   "metadata": {},
   "source": [
    "### RBF kernel"
   ]
  },
  {
   "cell_type": "code",
   "execution_count": 7,
   "metadata": {},
   "outputs": [
    {
     "name": "stdout",
     "output_type": "stream",
     "text": [
      "Best Score: 0.5473611195995743\n",
      "Best params: {'C': 10.0, 'gamma': 0.1}\n",
      "Normalized confusion matrix\n",
      "[[0.51136364 0.48863636]\n",
      " [0.46153846 0.53846154]]\n"
     ]
    },
    {
     "data": {
      "image/png": "[encoded data removed]",
      "text/plain": [
       "<Figure size 432x288 with 2 Axes>"
      ]
     },
     "metadata": {
      "needs_background": "light"
     },
     "output_type": "display_data"
    }
   ],
   "source": [
    "# Fitting Non-linear SVM\n",
    "\n",
    "p_grid_nlsvm = {'C': [1e-3,1e-2,1e-1,1,2,3,4,5,6,7,8,9,1e1],\n",
    "              'gamma': [0.0001, 0.0005, 0.001, 0.005, 0.01, 0.1], }\n",
    "NLsvm = SVC(kernel='rbf', class_weight='balanced')\n",
    "inner_cv = KFold(n_splits=5, shuffle=True, random_state=42)\n",
    "\n",
    "\n",
    "outer_cv = KFold(n_splits=5, shuffle=True, random_state=42)\n",
    "# Nested CV with parameter optimization\n",
    "clf = GridSearchCV(estimator=NLsvm, param_grid=p_grid_nlsvm, cv=inner_cv)\n",
    "\n",
    "\n",
    "# Looking for the best hyperparameters\n",
    "grid_nlsvm = GridSearchCV(estimator=NLsvm, param_grid=p_grid_nlsvm, scoring=\"balanced_accuracy\", cv=5)\n",
    "grid_nlsvm.fit(X_train, y_train)\n",
    "print(\"Best Score: {}\".format(grid_nlsvm.best_score_))\n",
    "print(\"Best params: {}\".format(grid_nlsvm.best_params_))\n",
    "\n",
    "\n",
    "y_pred = grid_nlsvm.predict(X_test)\n",
    "\n",
    "# Compute confusion matrix\n",
    "cnf_matrix = confusion_matrix(y_test, y_pred)\n",
    "\n",
    "# Plot normalized confusion matrix\n",
    "plt.figure()\n",
    "plot_confusion_matrix(cnf_matrix, classes=class_names, normalize=True,\n",
    "                      title='Normalized confusion matrix')\n",
    "plt.show()"
   ]
  },
  {
   "cell_type": "markdown",
   "metadata": {},
   "source": [
    "### Sigmoid kernel"
   ]
  },
  {
   "cell_type": "code",
   "execution_count": 8,
   "metadata": {},
   "outputs": [
    {
     "name": "stdout",
     "output_type": "stream",
     "text": [
      "Best Score: 0.5269445371645817\n",
      "Best params: {'C': 5, 'gamma': 0.005}\n",
      "Normalized confusion matrix\n",
      "[[0.375      0.625     ]\n",
      " [0.32692308 0.67307692]]\n"
     ]
    },
    {
     "data": {
      "image/png": "[encoded data removed]",
      "text/plain": [
       "<Figure size 432x288 with 2 Axes>"
      ]
     },
     "metadata": {
      "needs_background": "light"
     },
     "output_type": "display_data"
    }
   ],
   "source": [
    "# Fitting Non-linear SVM\n",
    "\n",
    "p_grid_nlsvm = {'C': [1e-3,1e-2,1e-1,1,2,3,4,5,6,7,8,9,1e1],\n",
    "              'gamma': [0.0001, 0.0005, 0.001, 0.005, 0.01, 0.1], }\n",
    "NLsvm = SVC(kernel='sigmoid', class_weight='balanced')\n",
    "inner_cv = KFold(n_splits=5, shuffle=True, random_state=42)\n",
    "\n",
    "\n",
    "outer_cv = KFold(n_splits=5, shuffle=True, random_state=42)\n",
    "# Nested CV with parameter optimization\n",
    "clf = GridSearchCV(estimator=NLsvm, param_grid=p_grid_nlsvm, cv=inner_cv)\n",
    "# Looking for the best hyperparameters\n",
    "grid_nlsvm = GridSearchCV(estimator=NLsvm, param_grid=p_grid_nlsvm, scoring=\"balanced_accuracy\", cv=5)\n",
    "grid_nlsvm.fit(X_train, y_train)\n",
    "print(\"Best Score: {}\".format(grid_nlsvm.best_score_))\n",
    "print(\"Best params: {}\".format(grid_nlsvm.best_params_))\n",
    "\n",
    "\n",
    "y_pred = grid_nlsvm.predict(X_test)\n",
    "\n",
    "# Compute confusion matrix\n",
    "cnf_matrix = confusion_matrix(y_test, y_pred)\n",
    "\n",
    "# Plot normalized confusion matrix\n",
    "plt.figure()\n",
    "plot_confusion_matrix(cnf_matrix, classes=class_names, normalize=True,\n",
    "                      title='Normalized confusion matrix')\n",
    "plt.show()"
   ]
  },
  {
   "cell_type": "code",
   "execution_count": 9,
   "metadata": {},
   "outputs": [
    {
     "name": "stdout",
     "output_type": "stream",
     "text": [
      "itération n°2\n",
      "itération n°3\n",
      "itération n°4\n",
      "itération n°5\n",
      "itération n°6\n",
      "itération n°7\n",
      "itération n°8\n",
      "itération n°9\n",
      "itération n°10\n",
      "itération n°11\n",
      "itération n°12\n",
      "itération n°13\n",
      "itération n°14\n",
      "itération n°15\n",
      "itération n°16\n",
      "itération n°17\n",
      "itération n°18\n",
      "itération n°19\n",
      "itération n°20\n",
      "itération n°21\n",
      "itération n°22\n",
      "itération n°23\n",
      "itération n°24\n",
      "itération n°25\n",
      "itération n°26\n",
      "itération n°27\n",
      "itération n°28\n"
     ]
    },
    {
     "data": {
      "image/png": "[encoded data removed]",
      "text/plain": [
       "<Figure size 432x288 with 1 Axes>"
      ]
     },
     "metadata": {
      "needs_background": "light"
     },
     "output_type": "display_data"
    },
    {
     "name": "stdout",
     "output_type": "stream",
     "text": [
      "best score for 20 components\n",
      "best score : 0.5490030495783714\n"
     ]
    }
   ],
   "source": [
    "l = []\n",
    "for i in range(2,29) :     \n",
    "    print('itération n°' + str(i))\n",
    "    pca = decomposition.PCA(n_components=i) \n",
    "    pca.fit(X_train)\n",
    "    X_pca = pca.transform(X_train)\n",
    "\n",
    "    # Fitting Non-linear SVM\n",
    "    p_grid_nlsvm = {'C': [1e-3,1e-2,1e-1,1,2,3,4,5,6,7,8,9,1e1],\n",
    "                  'gamma': [0.0001, 0.0005, 0.001, 0.005, 0.01, 0.1], }\n",
    "    NLsvm = SVC(kernel='rbf', class_weight='balanced')\n",
    "    inner_cv = KFold(n_splits=5, shuffle=True, random_state=42)\n",
    "    outer_cv = KFold(n_splits=5, shuffle=True, random_state=42)\n",
    "    # Nested CV with parameter optimization\n",
    "    clf = GridSearchCV(estimator=NLsvm, param_grid=p_grid_nlsvm, cv=inner_cv)\n",
    "    nested_score = cross_val_score(clf, X_pca, y_train, cv=outer_cv)\n",
    "\n",
    "    # Looking for the best hyperparameters\n",
    "    grid_nlsvm = GridSearchCV(estimator=NLsvm, param_grid=p_grid_nlsvm, scoring=\"balanced_accuracy\", cv=5)\n",
    "    grid_nlsvm.fit(X_pca, y_train)\n",
    "    l.append(grid_nlsvm.best_score_)\n",
    "    \n",
    "\n",
    "plt.plot(range(2,29),l,label='score')\n",
    "plt.title(\"Balanced accuracy in function of number of components in PCA\")\n",
    "plt.legend()\n",
    "plt.xlabel('number of components in PCA')\n",
    "plt.show()\n",
    "\n",
    "print('best score for '+ str(np.argmax(l)+2)+ ' components')\n",
    "print('best score : '+ str(max(l)))"
   ]
  },
  {
   "cell_type": "code",
   "execution_count": 10,
   "metadata": {},
   "outputs": [
    {
     "name": "stdout",
     "output_type": "stream",
     "text": [
      "Best Score: 0.5422967195876645\n",
      "Best params: {'C': 10.0, 'gamma': 0.1}\n",
      "Normalized confusion matrix\n",
      "[[0.51136364 0.48863636]\n",
      " [0.44230769 0.55769231]]\n"
     ]
    },
    {
     "data": {
      "image/png": "[encoded data removed]",
      "text/plain": [
       "<Figure size 432x288 with 2 Axes>"
      ]
     },
     "metadata": {
      "needs_background": "light"
     },
     "output_type": "display_data"
    }
   ],
   "source": [
    "pca = decomposition.PCA(n_components=17) \n",
    "pca.fit(X_train)\n",
    "X_pca = pca.transform(X_train)\n",
    "Xtest_pca = pca.transform(X_test)\n",
    "\n",
    "\n",
    "    # Fitting Non-linear SVM\n",
    "p_grid_nlsvm = {'C': [1e-3,1e-2,1e-1,1,2,3,4,5,6,7,8,9,1e1],\n",
    "                  'gamma': [0.0001, 0.0005, 0.001, 0.005, 0.01, 0.1], }\n",
    "NLsvm = SVC(kernel='rbf', class_weight='balanced')\n",
    "inner_cv = KFold(n_splits=5, shuffle=True, random_state=42)\n",
    "outer_cv = KFold(n_splits=5, shuffle=True, random_state=42)\n",
    "    # Nested CV with parameter optimization\n",
    "clf = GridSearchCV(estimator=NLsvm, param_grid=p_grid_nlsvm, cv=inner_cv)\n",
    "nested_score = cross_val_score(clf, X_pca, y_train, cv=outer_cv)\n",
    "\n",
    "    # Looking for the best hyperparameters\n",
    "grid_nlsvm = GridSearchCV(estimator=NLsvm, param_grid=p_grid_nlsvm, scoring=\"balanced_accuracy\", cv=5)\n",
    "grid_nlsvm.fit(X_pca, y_train)\n",
    "\n",
    "print(\"Best Score: {}\".format(grid_nlsvm.best_score_))\n",
    "print(\"Best params: {}\".format(grid_nlsvm.best_params_))\n",
    "\n",
    "\n",
    "y_pred = grid_nlsvm.predict(Xtest_pca)\n",
    "\n",
    "# Compute confusion matrix\n",
    "cnf_matrix = confusion_matrix(y_test, y_pred)\n",
    "\n",
    "# Plot normalized confusion matrix\n",
    "plt.figure()\n",
    "plot_confusion_matrix(cnf_matrix, classes=class_names, normalize=True,\n",
    "                      title='Normalized confusion matrix')\n",
    "plt.show()"
   ]
  },
  {
   "cell_type": "markdown",
   "metadata": {},
   "source": [
    "Sans surprise, les résultats de SVM avec un noyau non linéaire sont meilleurs. C'est le noyau rbf qui donne les meilleurs résultats. Cependant, les prédictions que j'ai pu soumettre à Kaggle ne sont pas aussi bonnes que celles que j'avais pu fournir avec les Randm Forest. \n",
    "\n",
    "Je n'ai pas pu soumettre la prédiction ci-dessus mais elle n'aurait pas eu un bon résultat puisque les nombres de faux positifs et de faux négatifs sont trop élevés. "
   ]
  },
  {
   "cell_type": "markdown",
   "metadata": {},
   "source": [
    "# Conclusion : "
   ]
  },
  {
   "cell_type": "markdown",
   "metadata": {},
   "source": [
    "Les support vector machines ne marchent vraiment pas très bien pour cette classification. Le noyau RBF est bien meilleur que le noyau sigmoid mais les deux ne sont pas très bons.\n",
    "L'un des plus gros désavantages des SVM est que le choix des noyaux est très limité. Le problème, au vues des résultats des SVM linéaires, n'est pas linéaire. Il reste deux noyaux qui donnent des performances supérieures à 0.5 : le noyau sigmoid et le noyau rbf. Ces deux noyaux ne conviennent pas aux features et donc limitent grandement la résolution du problème. \n",
    "  Il se peut également que les features ne soit pas bonnes."
   ]
  },
  {
   "cell_type": "markdown",
   "metadata": {},
   "source": [
    "# Appendice : code implémenté pour soumettre les CSV."
   ]
  },
  {
   "cell_type": "code",
   "execution_count": 11,
   "metadata": {},
   "outputs": [],
   "source": [
    "#loading data\n",
    "#train set :\n",
    "df = pd.read_csv('data/train.csv')\n",
    "X_df = df['ImageId']\n",
    "y_df = df['Malignant']\n",
    "names = X_df.values\n",
    "y_train = y_df.values\n",
    "\n",
    "df2 = pd.read_csv('data/features.csv')\n",
    "features_df = df2.loc[df2['ImageId'].isin(names)]\n",
    "features = np.array(features_df.values)\n",
    "X_train = features[:,1:]\n",
    "\n",
    "#test set : \n",
    "df = pd.read_csv('data/test.csv')\n",
    "X_df = df['ImageId']\n",
    "y_df = df['Malignant']\n",
    "names = X_df.values\n",
    "y = y_df.values\n",
    "\n",
    "df2 = pd.read_csv('data/features.csv')\n",
    "features_df = df2.loc[df2['ImageId'].isin(names)]\n",
    "features = np.array(features_df.values)\n",
    "X_test = features[:,1:]"
   ]
  },
  {
   "cell_type": "code",
   "execution_count": 12,
   "metadata": {},
   "outputs": [],
   "source": [
    "#scale data\n",
    "sc = StandardScaler()  \n",
    "X_train = sc.fit_transform(X_train)  \n",
    "X_test = sc.transform(X_test)  \n",
    "\n",
    "#resample\n",
    "from imblearn.over_sampling import SMOTE, ADASYN\n",
    "X_train, y_train = ADASYN().fit_resample(X_train, y_train)"
   ]
  },
  {
   "cell_type": "code",
   "execution_count": 13,
   "metadata": {},
   "outputs": [
    {
     "name": "stdout",
     "output_type": "stream",
     "text": [
      "Fitting Linear SVM to the training set after PCA\n",
      "done in 8.641s\n",
      "Average and std Nested Cv score : 0.4968454823520417 +- 0.011355995481396914\n",
      "Best Score: 0.5142850816471696\n",
      "Best params: {'C': 6}\n"
     ]
    }
   ],
   "source": [
    "pca = decomposition.PCA(n_components=11) # use number of components take explain 90% of variability\n",
    "pca.fit(X_train)\n",
    "X_pca = pca.transform(X_train)\n",
    "\n",
    "    # Fitting Linear SVM \n",
    "print(\"Fitting Linear SVM to the training set after PCA\")\n",
    "t0 = time()\n",
    "p_grid_lsvm = {'C': [1e-3,1e-2,1e-1,1,2,3,4,5,6,7,8,9,1e1]}\n",
    "Lsvm = LinearSVC(class_weight='balanced')\n",
    "inner_cv = KFold(n_splits=5, shuffle=True, random_state=0)\n",
    "outer_cv = KFold(n_splits=5, shuffle=True, random_state=0)\n",
    "    # Nested CV with parameter optimization\n",
    "clf = GridSearchCV(estimator=Lsvm, param_grid=p_grid_lsvm, cv=inner_cv)\n",
    "nested_score = cross_val_score(clf, X_pca, y_train, cv=outer_cv,scoring=\"balanced_accuracy\")\n",
    "print(\"done in %0.3fs\" % (time() - t0))\n",
    "print(\"Average and std Nested Cv score : {0} +- {1}\".format(nested_score.mean(), nested_score.std() ))\n",
    "\n",
    "    # Looking for the best hyperparameters\n",
    "grid_lsvm = GridSearchCV(estimator=Lsvm, param_grid=p_grid_lsvm, scoring=\"balanced_accuracy\", cv=5)\n",
    "grid_lsvm.fit(X_train, y_train)\n",
    "print(\"Best Score: {}\".format(grid_lsvm.best_score_))\n",
    "l.append(grid_lsvm.best_score_)\n",
    "print(\"Best params: {}\".format(grid_lsvm.best_params_))\n",
    "\n",
    "y_pred = grid_lsvm.predict(X_test)\n",
    "\n",
    "   "
   ]
  },
  {
   "cell_type": "code",
   "execution_count": 14,
   "metadata": {},
   "outputs": [],
   "source": [
    "df_submission = pd.read_csv('data/test.csv')"
   ]
  },
  {
   "cell_type": "code",
   "execution_count": 15,
   "metadata": {},
   "outputs": [
    {
     "name": "stdout",
     "output_type": "stream",
     "text": [
      "     ImageId  Malignant\n",
      "0  IM_000788          0\n",
      "1  IM_000640          0\n",
      "2  IM_000889          1\n"
     ]
    }
   ],
   "source": [
    "i = 0\n",
    "for Id in df_submission['ImageId']:\n",
    "    if Id != names[i] : \n",
    "        print('mismatch')\n",
    "    value = y_pred[i] # Draw a random number between 0 and 1 : binary classification : put here the result of\n",
    "    i = i+1                # your classifier\n",
    "    df_submission.loc[df_submission['ImageId'] == Id, 'Malignant'] = value\n",
    "df_submission['Malignant'] = df_submission['Malignant'].astype(int) # This line is mandatory to be sure to have integer\n",
    "print(df_submission.head(3))\n",
    "df_submission.to_csv('data/ESSAI15.csv', index=None, sep=',', mode='w') # Save the data in the exemple_test.csv file"
   ]
  },
  {
   "cell_type": "markdown",
   "metadata": {},
   "source": [
    "# Essai 16 : SVM non linéaire."
   ]
  },
  {
   "cell_type": "code",
   "execution_count": 16,
   "metadata": {},
   "outputs": [],
   "source": [
    "#loading data\n",
    "#train set :\n",
    "df = pd.read_csv('data/train.csv')\n",
    "X_df = df['ImageId']\n",
    "y_df = df['Malignant']\n",
    "names = X_df.values\n",
    "y_train = y_df.values\n",
    "\n",
    "df2 = pd.read_csv('data/features.csv')\n",
    "features_df = df2.loc[df2['ImageId'].isin(names)]\n",
    "features = np.array(features_df.values)\n",
    "X_train = features[:,1:]\n",
    "\n",
    "#test set : \n",
    "df = pd.read_csv('data/test.csv')\n",
    "X_df = df['ImageId']\n",
    "y_df = df['Malignant']\n",
    "names = X_df.values\n",
    "y = y_df.values\n",
    "\n",
    "df2 = pd.read_csv('data/features.csv')\n",
    "features_df = df2.loc[df2['ImageId'].isin(names)]\n",
    "features = np.array(features_df.values)\n",
    "X_test = features[:,1:]"
   ]
  },
  {
   "cell_type": "code",
   "execution_count": 17,
   "metadata": {},
   "outputs": [],
   "source": [
    "#scale data\n",
    "sc = StandardScaler()  \n",
    "X_train = sc.fit_transform(X_train)  \n",
    "X_test = sc.transform(X_test)  \n",
    "\n",
    "#resample\n",
    "#from imblearn.over_sampling import SMOTE, ADASYN\n",
    "#X_train, y_train = ADASYN().fit_resample(X_train, y_train)"
   ]
  },
  {
   "cell_type": "code",
   "execution_count": 18,
   "metadata": {},
   "outputs": [
    {
     "name": "stdout",
     "output_type": "stream",
     "text": [
      "Best Score: 0.539705707901423\n",
      "Best params: {'C': 6, 'gamma': 0.01}\n"
     ]
    }
   ],
   "source": [
    "# Fitting Non-linear SVM\n",
    "\n",
    "p_grid_nlsvm = {'C': [1e-3,1e-2,1e-1,1,2,3,4,5,6,7,8,9,1e1],\n",
    "              'gamma': [0.0001, 0.0005, 0.001, 0.005, 0.01, 0.1], }\n",
    "NLsvm = SVC(kernel='rbf', class_weight='balanced')\n",
    "inner_cv = KFold(n_splits=5, shuffle=True, random_state=42)\n",
    "\n",
    "\n",
    "outer_cv = KFold(n_splits=5, shuffle=True, random_state=42)\n",
    "# Nested CV with parameter optimization\n",
    "clf = GridSearchCV(estimator=NLsvm, param_grid=p_grid_nlsvm, cv=inner_cv)\n",
    "\n",
    "\n",
    "# Looking for the best hyperparameters\n",
    "grid_nlsvm = GridSearchCV(estimator=NLsvm, param_grid=p_grid_nlsvm, scoring=\"balanced_accuracy\", cv=5)\n",
    "grid_nlsvm.fit(X_train, y_train)\n",
    "print(\"Best Score: {}\".format(grid_nlsvm.best_score_))\n",
    "print(\"Best params: {}\".format(grid_nlsvm.best_params_))\n",
    "\n",
    "\n",
    "y_pred = grid_nlsvm.predict(X_test)\n"
   ]
  },
  {
   "cell_type": "code",
   "execution_count": 19,
   "metadata": {},
   "outputs": [],
   "source": [
    "df_submission = pd.read_csv('data/test.csv')"
   ]
  },
  {
   "cell_type": "code",
   "execution_count": 20,
   "metadata": {},
   "outputs": [
    {
     "name": "stdout",
     "output_type": "stream",
     "text": [
      "     ImageId  Malignant\n",
      "0  IM_000788          1\n",
      "1  IM_000640          1\n",
      "2  IM_000889          1\n"
     ]
    }
   ],
   "source": [
    "i = 0\n",
    "for Id in df_submission['ImageId']:\n",
    "    if Id != names[i] : \n",
    "        print('mismatch')\n",
    "    value = y_pred[i] # Draw a random number between 0 and 1 : binary classification : put here the result of\n",
    "    i = i+1                # your classifier\n",
    "    df_submission.loc[df_submission['ImageId'] == Id, 'Malignant'] = value\n",
    "df_submission['Malignant'] = df_submission['Malignant'].astype(int) # This line is mandatory to be sure to have integer\n",
    "print(df_submission.head(3))\n",
    "df_submission.to_csv('data/ESSAI16.csv', index=None, sep=',', mode='w') # Save the data in the exemple_test.csv file"
   ]
  }
 ],
 "metadata": {
  "kernelspec": {
   "display_name": "Python 3",
   "language": "python",
   "name": "python3"
  },
  "language_info": {
   "codemirror_mode": {
    "name": "ipython",
    "version": 3
   },
   "file_extension": ".py",
   "mimetype": "text/x-python",
   "name": "python",
   "nbconvert_exporter": "python",
   "pygments_lexer": "ipython3",
   "version": "3.7.2"
  }
 },
 "nbformat": 4,
 "nbformat_minor": 2
}
